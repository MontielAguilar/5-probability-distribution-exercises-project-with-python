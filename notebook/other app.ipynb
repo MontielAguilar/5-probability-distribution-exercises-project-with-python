{
 "cells": [
  {
   "attachments": {},
   "cell_type": "markdown",
   "metadata": {},
   "source": [
    "Probability Distribution Problems\n",
    "Binomial Distribution\n",
    "\n",
    "In probability theory and statistics, the binomial distribution is the discrete probability distribution that gives only two possible results in an experiment, for example, when you flip a coin it can by either Head or Tails."
   ]
  },
  {
   "cell_type": "code",
   "execution_count": 1,
   "metadata": {},
   "outputs": [],
   "source": [
    "# Probability functions, density and distribution\n",
    "\n",
    "def dbinom(x,size,prob=0.5):\n",
    "    \"\"\"\n",
    "    Calculates the point estimate of the binomial distribution\n",
    "    \"\"\"\n",
    "    from scipy.stats import binom\n",
    "    result=binom.pmf(k=x,n=size,p=prob,loc=0)\n",
    "    return result\n",
    "\n",
    "def pbinom(q,size,prob=0.5):\n",
    "    \"\"\"\n",
    "    Calculates the cumulative of the binomial distribution\n",
    "    \"\"\"\n",
    "    from scipy.stats import binom\n",
    "    result=binom.cdf(k=q,n=size,p=prob,loc=0)\n",
    "    return result\n",
    "\n",
    "def qbinom(p, size, prob=0.5):\n",
    "    \"\"\"\n",
    "    Calculates the quantile function from the binomial distribution\n",
    "    \"\"\"\n",
    "    from scipy.stats import binom\n",
    "    result=binom.ppf(q=p,n=size,p=prob,loc=0)\n",
    "    return result\n",
    "\n",
    "def rbinom(n,size,prob=0.5):\n",
    "    \"\"\"\n",
    "    Generates random variables from the binomial distribution\n",
    "    \"\"\"\n",
    "    from scipy.stats import binom\n",
    "    result=binom.rvs(n=size,p=prob,size=n)\n",
    "    return result"
   ]
  },
  {
   "cell_type": "code",
   "execution_count": 4,
   "metadata": {},
   "outputs": [
    {
     "data": {
      "text/plain": [
       "array([2, 3, 3, ..., 3, 0, 2], dtype=int64)"
      ]
     },
     "execution_count": 4,
     "metadata": {},
     "output_type": "execute_result"
    }
   ],
   "source": [
    "dbinom(2, size = 10, prob = 0.2) #Probability that a binomial (10,0.2) takes the value 2,\n",
    "pbinom(2, size = 10, prob = 0.2) #Probability that a binomial (10,0.2) will take a value less than 2\n",
    "qbinom(0.9, size = 10, prob = 0.2) # what value of a binomial (10,0.2) has a cumulative probability of 0.9?\n",
    "rbinom(2000, size = 10, prob = 0.2) # generate 2000 random values from a binomial distribution (10,0.2)"
   ]
  },
  {
   "cell_type": "code",
   "execution_count": 4,
   "metadata": {},
   "outputs": [
    {
     "data": {
      "image/png": "[encoded data removed]",
      "text/plain": [
       "<Figure size 640x480 with 1 Axes>"
      ]
     },
     "metadata": {},
     "output_type": "display_data"
    }
   ],
   "source": [
    "import numpy as np\n",
    "import matplotlib.pyplot as plt\n",
    "\n",
    "# Discrete distributions\n",
    "xs = np.arange( 1, 11 )\n",
    "ys = dbinom(xs,size=10,prob=0.5) # compute the shape of the distribution\n",
    "plt.plot( xs, ys, 'o' )   # plot circles...\n",
    "plt.vlines( xs, 0, ys )   # ...and lines\n",
    "plt.ylim( bottom=0 )      # ensure sensible bottom border\n",
    "plt.title('Probability function binomial distribution')\n",
    "plt.show()"
   ]
  },
  {
   "attachments": {},
   "cell_type": "markdown",
   "metadata": {},
   "source": [
    "Exercise 1: Create the same functions but for the normal and uniform distribution."
   ]
  },
  {
   "cell_type": "code",
   "execution_count": null,
   "metadata": {},
   "outputs": [],
   "source": [
    "# NORMAL\n",
    "import numpy as np\n",
    "from scipy.stats import norm\n",
    "\n",
    "\n",
    "# PDF NORMAL\n",
    "def dnorm(x, mean, std):\n",
    "    result = norm.pdf(x, loc=mean, scale=std)\n",
    "    return result\n",
    "\n",
    "# CDF NORMAL\n",
    "def pnorm(q, mean, std):\n",
    "    result = norm.cdf(q, loc=mean, scale=std)\n",
    "    return result\n",
    "\n",
    "#PPF NORMAL\n",
    "def qnorm(p, mean, std):\n",
    "    result = norm.ppf(p, loc=mean, scale=std)\n",
    "    return result\n",
    "\n",
    "#RVS NORMAL\n",
    "def rnorm(n, mean, std):\n",
    "    result = norm.rvs(loc=mean, scale=std, size=n)\n",
    "    return result"
   ]
  },
  {
   "cell_type": "code",
   "execution_count": null,
   "metadata": {},
   "outputs": [],
   "source": [
    "# UNIFORME\n",
    "import numpy as np\n",
    "from scipy.stats import uniform\n",
    "\n",
    "# PDF UNIFORME\n",
    "\n",
    "def duniform(x, low, high):\n",
    "    result = uniform.pdf(x, loc=low, scale=(high - low))\n",
    "    return result\n",
    "\n",
    "\n",
    "# CDF UNIFORME\n",
    "def puniform(q, low, high):\n",
    "    result = uniform.cdf(q, loc=low, scale=(high - low))\n",
    "    return result\n",
    "\n",
    "#PPF UNIFORME\n",
    "def quniform(p, low, high):\n",
    "    result = uniform.ppf(p, loc=low, scale=(high - low))\n",
    "    return result\n",
    "\n",
    "#RVS UNIFORME\n",
    "def runiform(n, low, high):\n",
    "    result = uniform.rvs(loc=low, scale=(high - low), size=n)\n",
    "    return result"
   ]
  }
 ],
 "metadata": {
  "kernelspec": {
   "display_name": "base",
   "language": "python",
   "name": "python3"
  },
  "language_info": {
   "codemirror_mode": {
    "name": "ipython",
    "version": 3
   },
   "file_extension": ".py",
   "mimetype": "text/x-python",
   "name": "python",
   "nbconvert_exporter": "python",
   "pygments_lexer": "ipython3",
   "version": "3.10.9"
  },
  "orig_nbformat": 4
 },
 "nbformat": 4,
 "nbformat_minor": 2
}
